{
 "cells": [
  {
   "cell_type": "code",
   "execution_count": 1,
   "id": "286f3f45",
   "metadata": {},
   "outputs": [],
   "source": [
    "#pip install bs4\n",
    "#pip install requests\n",
    "#pip install yfinance\n",
    "\n",
    "import re\n",
    "import csv\n",
    "import json\n",
    "from io import StringIO\n",
    "from bs4 import BeautifulSoup\n",
    "import requests\n",
    "import yfinance as yf\n",
    "\n",
    "url_most_active_stocks = 'https://finance.yahoo.com/most-active'\n",
    "response = requests.get(url_most_active_stocks)\n",
    "\n",
    "soup = BeautifulSoup(response.text, 'html.parser')\n",
    "\n",
    "stocks = soup.find_all('tr','simpTblRow')\n",
    "\n",
    "def get_topstock(stock):\n",
    "    atag = stock.td.a\n",
    "    Symbol = atag.text\n",
    "    Name = atag.get('title')\n",
    "    topstock = (Symbol, Name)\n",
    "    return topstock\n",
    "    \n",
    "topstocks = []\n",
    "for stock in stocks:\n",
    "    topstock = get_topstock(stock)\n",
    "    topstocks.append(topstock)\n",
    "\n",
    "with open('top_stocks.csv','w', newline='',encoding='utf-8') as f:\n",
    "    writer = csv.writer(f)\n",
    "    writer.writerow(['Symbol', 'Name'])\n",
    "    writer.writerows(topstocks)\n",
    "\n",
    "symbols = []\n",
    "for i in topstocks:\n",
    "    symbols.append(i[0])\n",
    "\n",
    "\n",
    "def get_history(symbol, per):\n",
    "    symbol = yf.Ticker(symbol)\n",
    "    symbol = symbol.history(period = per)\n",
    "    return symbol\n",
    "\n",
    "for i in range(len(symbols)):\n",
    "    locals()[symbols[i]] = symbols[i]\n",
    "    get_history(symbols[i], \"5y\")\n",
    "    get_history(symbols[i], \"5y\").to_csv(r'C:\\data_analysis\\stocks_histories\\''+ symbols[i] + '_history.csv')"
   ]
  },
  {
   "cell_type": "code",
   "execution_count": null,
   "id": "b61dce3d",
   "metadata": {},
   "outputs": [],
   "source": []
  }
 ],
 "metadata": {
  "kernelspec": {
   "display_name": "Python 3 (ipykernel)",
   "language": "python",
   "name": "python3"
  },
  "language_info": {
   "codemirror_mode": {
    "name": "ipython",
    "version": 3
   },
   "file_extension": ".py",
   "mimetype": "text/x-python",
   "name": "python",
   "nbconvert_exporter": "python",
   "pygments_lexer": "ipython3",
   "version": "3.9.13"
  }
 },
 "nbformat": 4,
 "nbformat_minor": 5
}
