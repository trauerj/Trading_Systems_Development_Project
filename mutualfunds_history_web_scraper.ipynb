{
 "cells": [
  {
   "cell_type": "markdown",
   "id": "46b24502",
   "metadata": {},
   "source": [
    "# This is a Notebook for web scraping the top 25 mutual funds from yahoo finance"
   ]
  },
  {
   "cell_type": "markdown",
   "id": "6becf786",
   "metadata": {},
   "source": [
    "### First step is installing the required libraries (Remove the # sign to install)"
   ]
  },
  {
   "cell_type": "code",
   "execution_count": 1,
   "id": "73224664",
   "metadata": {},
   "outputs": [],
   "source": [
    "#pip install bs4\n",
    "#pip install requests\n",
    "#pip install yfinance"
   ]
  },
  {
   "cell_type": "markdown",
   "id": "2262455c",
   "metadata": {},
   "source": [
    "### Second step is import packages and modules\n",
    "#### csv is for write/save csv file\n",
    "#### bs4 is for pulling data from html\n",
    "#### requests is for request and get the url\n",
    "#### yfinance is for get data of mutual funds"
   ]
  },
  {
   "cell_type": "code",
   "execution_count": 2,
   "id": "cafcad0b",
   "metadata": {},
   "outputs": [],
   "source": [
    "import csv\n",
    "from io import StringIO\n",
    "from bs4 import BeautifulSoup\n",
    "import requests\n",
    "import yfinance as yf"
   ]
  },
  {
   "cell_type": "markdown",
   "id": "c7923d33",
   "metadata": {},
   "source": [
    "### Next step is get the url \n",
    "#### - First, give the url of the top 25 mutual funds\n",
    "#### - After that, get the data from the specified url, as 'response' variable.\n",
    "#### - With the response variable we inspect the result of the get() function.\n",
    "#### - Code=Reason: 200=OK; 404=Not Found; 403=Forbidden"
   ]
  },
  {
   "cell_type": "code",
   "execution_count": 3,
   "id": "66c5c175",
   "metadata": {},
   "outputs": [],
   "source": [
    "url_topmutual_funds = 'https://finance.yahoo.com/mutualfunds'\n",
    "response = requests.get(url_topmutual_funds)\n",
    "response"
   ]
  },
  {
   "cell_type": "code",
   "execution_count": null,
   "id": "22a5eece",
   "metadata": {},
   "outputs": [],
   "source": [
    "response.reason"
   ]
  },
  {
   "cell_type": "markdown",
   "id": "3e570986",
   "metadata": {},
   "source": [
    "### With BeautifulSoup we get a BeautifulSoup object, which represent the url document as a nested data structure"
   ]
  },
  {
   "cell_type": "code",
   "execution_count": 4,
   "id": "efbc9587",
   "metadata": {},
   "outputs": [],
   "source": [
    "soup = BeautifulSoup(response.text, 'html.parser')"
   ]
  },
  {
   "cell_type": "markdown",
   "id": "6f5f2189",
   "metadata": {},
   "source": [
    "### After that we select all of the table rows (tr)\n",
    "#### Find every 'tr' tag with class: 'simpTblRow' ( .find_all('tag', 'class'))"
   ]
  },
  {
   "cell_type": "code",
   "execution_count": 5,
   "id": "7d8b0415",
   "metadata": {},
   "outputs": [],
   "source": [
    "funds = soup.find_all('tr','simpTblRow')"
   ]
  },
  {
   "cell_type": "markdown",
   "id": "d91a514b",
   "metadata": {},
   "source": [
    "### If we got the table rows than we need to get the symbol and name of the mutual funds\n",
    "#### In 'get_mutualfund' function, we're looking for 'a' **tag(s)* in 'td' tags.\n",
    "#### In the a tag(s) Symbol is a text and name is the title of the tag, so wee get the text with the .text function, and the name with the .get('title') function.\n",
    "#### We use the for loop to collect the Symbols and the names of  25 mutual funds.\n",
    "#### *There is just one 'a' tag within 'td' tag."
   ]
  },
  {
   "cell_type": "code",
   "execution_count": 6,
   "id": "1c5bb727",
   "metadata": {},
   "outputs": [],
   "source": [
    "def get_mutualfund(fund):\n",
    "    atag = fund.td.a\n",
    "    Symbol = atag.text\n",
    "    Name = atag.get('title')\n",
    "    mutualfund = (Symbol, Name)\n",
    "    return mutualfund\n",
    "    \n",
    "mutualfunds = []\n",
    "for fund in funds:\n",
    "    mutualfund = get_mutualfund(fund)\n",
    "    mutualfunds.append(mutualfund)"
   ]
  },
  {
   "cell_type": "markdown",
   "id": "10c8b6bb",
   "metadata": {},
   "source": [
    "### Save the mutual funds' symbols and names as csv"
   ]
  },
  {
   "cell_type": "code",
   "execution_count": 7,
   "id": "64ad1bb4",
   "metadata": {},
   "outputs": [],
   "source": [
    "with open('top_mutual_funds.csv','w', newline='',encoding='utf-8') as f:\n",
    "    writer = csv.writer(f)\n",
    "    writer.writerow(['Symbol', 'Name'])\n",
    "    writer.writerows(mutualfunds)"
   ]
  },
  {
   "cell_type": "markdown",
   "id": "4d39d749",
   "metadata": {},
   "source": [
    "### Create a list with the symbols only\n",
    "#### Reason is that, to collect the history data, we only need the symbol of the mutual fund."
   ]
  },
  {
   "cell_type": "code",
   "execution_count": 8,
   "id": "76a8b1b5",
   "metadata": {},
   "outputs": [],
   "source": [
    "symbols = []\n",
    "for i in mutualfunds:\n",
    "    symbols.append(i[0])"
   ]
  },
  {
   "cell_type": "markdown",
   "id": "89edf569",
   "metadata": {},
   "source": [
    "### Define a function to get the historical data of the fund\n",
    "#### With the .Ticker() function we get informations of the specified mutual fund.\n",
    "#### The .history() function give us the historical data of the mutual fund for a specified period."
   ]
  },
  {
   "cell_type": "code",
   "execution_count": 9,
   "id": "93c778d3",
   "metadata": {},
   "outputs": [],
   "source": [
    "def get_history(symbol, period):\n",
    "    symbol = yf.Ticker(symbol)\n",
    "    symbol = symbol.history(period = period)\n",
    "    return symbol"
   ]
  },
  {
   "cell_type": "markdown",
   "id": "fcf6062b",
   "metadata": {},
   "source": [
    "### Write a for loop to get the historical data of all funds and save them as csv files (into current folder)."
   ]
  },
  {
   "cell_type": "code",
   "execution_count": 10,
   "id": "aa84aa5a",
   "metadata": {},
   "outputs": [],
   "source": [
    "for i in range(len(symbols)):\n",
    "    locals()[symbols[i]] = symbols[i]\n",
    "    get_history(symbols[i], \"5y\")\n",
    "    get_history(symbols[i], \"5y\").to_csv(symbols[i] + '_history.csv')"
   ]
  }
 ],
 "metadata": {
  "kernelspec": {
   "display_name": "Python 3 (ipykernel)",
   "language": "python",
   "name": "python3"
  },
  "language_info": {
   "codemirror_mode": {
    "name": "ipython",
    "version": 3
   },
   "file_extension": ".py",
   "mimetype": "text/x-python",
   "name": "python",
   "nbconvert_exporter": "python",
   "pygments_lexer": "ipython3",
   "version": "3.9.13"
  }
 },
 "nbformat": 4,
 "nbformat_minor": 5
}
