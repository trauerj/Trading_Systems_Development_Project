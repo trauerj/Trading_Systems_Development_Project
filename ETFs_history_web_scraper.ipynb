{
 "cells": [
  {
   "cell_type": "code",
   "execution_count": 1,
   "id": "5289207b",
   "metadata": {},
   "outputs": [],
   "source": [
    "#pip install bs4\n",
    "#pip install requests\n",
    "#pip install yfinance\n",
    "\n",
    "import re\n",
    "import csv\n",
    "import json\n",
    "from io import StringIO\n",
    "from bs4 import BeautifulSoup\n",
    "import requests\n",
    "import yfinance as yf\n",
    "\n",
    "url_topetfs = 'https://finance.yahoo.com/etfs'\n",
    "response = requests.get(url_topetfs)\n",
    "\n",
    "soup = BeautifulSoup(response.text, 'html.parser')\n",
    "\n",
    "etfs = soup.find_all('tr','simpTblRow')\n",
    "\n",
    "def get_topetf(etf):\n",
    "    atag = etf.td.a\n",
    "    Symbol = atag.text\n",
    "    Name = atag.get('title')\n",
    "    topetf = (Symbol, Name)\n",
    "    return topetf\n",
    "    \n",
    "topetfs = []\n",
    "for etf in etfs:\n",
    "    topetf = get_topetf(etf)\n",
    "    topetfs.append(topetf)\n",
    "\n",
    "with open('top_etf.csv','w', newline='',encoding='utf-8') as f:\n",
    "    writer = csv.writer(f)\n",
    "    writer.writerow(['Symbol', 'Name'])\n",
    "    writer.writerows(topetfs)\n",
    "\n",
    "symbols = []\n",
    "for i in topetfs:\n",
    "    symbols.append(i[0])\n",
    "\n",
    "\n",
    "def get_history(symbol, per):\n",
    "    symbol = yf.Ticker(symbol)\n",
    "    symbol = symbol.history(period = per)\n",
    "    return symbol\n",
    "\n",
    "for i in range(len(symbols)):\n",
    "    locals()[symbols[i]] = symbols[i]\n",
    "    get_history(symbols[i], \"5y\")\n",
    "    get_history(symbols[i], \"5y\").to_csv(r'C:\\data_analysis\\etfs_history\\''+ symbols[i] + '_history.csv')"
   ]
  },
  {
   "cell_type": "code",
   "execution_count": null,
   "id": "e0f2b01c",
   "metadata": {},
   "outputs": [],
   "source": []
  }
 ],
 "metadata": {
  "kernelspec": {
   "display_name": "Python 3 (ipykernel)",
   "language": "python",
   "name": "python3"
  },
  "language_info": {
   "codemirror_mode": {
    "name": "ipython",
    "version": 3
   },
   "file_extension": ".py",
   "mimetype": "text/x-python",
   "name": "python",
   "nbconvert_exporter": "python",
   "pygments_lexer": "ipython3",
   "version": "3.9.13"
  }
 },
 "nbformat": 4,
 "nbformat_minor": 5
}
